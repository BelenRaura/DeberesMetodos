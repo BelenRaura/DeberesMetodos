{
 "cells": [
  {
   "cell_type": "markdown",
   "metadata": {},
   "source": [
    "\n",
    "# Ejemplos de Formateadores en Python\n",
    "\n",
    "cómo usar cuatro formateadores populares en Python:\n",
    "\n",
    "1. **Black**\n",
    "2. **autopep8**\n",
    "3. **YAPF**\n",
    "4. **Flake8**\n",
    "\n",
    "---\n",
    "\n",
    "## 1. Black\n",
    "\n",
    "### Instalación\n",
    "\n",
    "Ejecuta en una celda:\n",
    "```bash\n",
    "!pip install black\n",
    "```\n",
    "\n",
    "### Ejemplo de Uso\n",
    "Código sin formato:\n",
    "\n",
    "```"
   ]
  },
  {
   "cell_type": "code",
   "execution_count": 2,
   "metadata": {},
   "outputs": [
    {
     "name": "stdout",
     "output_type": "stream",
     "text": [
      "El área del círculo es:  78.53975\n"
     ]
    }
   ],
   "source": [
    "def calculate_area( radius ,  pi=3.14159 ):\n",
    "   area = pi* radius**2\n",
    "   return area\n",
    "radius=5\n",
    "print(\"El área del círculo es: \",calculate_area(radius))\n"
   ]
  },
  {
   "cell_type": "code",
   "execution_count": 4,
   "metadata": {},
   "outputs": [
    {
     "name": "stdout",
     "output_type": "stream",
     "text": [
      "def calculate_area(radius, pi=3.14159):\n",
      "    area = pi * radius**2\n",
      "    return area\n",
      "\n",
      "\n",
      "radius = 5\n",
      "print(\"El área del círculo es: \", calculate_area(radius))\n",
      "\n"
     ]
    }
   ],
   "source": [
    "#Formatear el código con Black:\n",
    "\n",
    "import black\n",
    "\n",
    "\n",
    "\n",
    "# Código desordenado\n",
    "code = '''\n",
    "def calculate_area( radius ,  pi=3.14159 ):\n",
    "   area = pi* radius**2\n",
    "   return area\n",
    "radius=5\n",
    "print(\"El área del círculo es: \",calculate_area(radius))\n",
    "'''\n",
    "\n",
    "# Aplicar Black\n",
    "formatted_code = black.format_str(code, mode=black.Mode())\n",
    "print(formatted_code)\n"
   ]
  },
  {
   "cell_type": "markdown",
   "metadata": {},
   "source": [
    "## 2. autopep8\n",
    "\n",
    "### Instalación\n",
    "\n",
    "Ejecuta en una celda:\n",
    "```bash\n",
    "!pip install autopep8\n",
    "```\n",
    "\n",
    "### Ejemplo de Uso\n",
    "Código sin formato:\n",
    "\n",
    "\n"
   ]
  },
  {
   "cell_type": "code",
   "execution_count": 11,
   "metadata": {},
   "outputs": [
    {
     "name": "stdout",
     "output_type": "stream",
     "text": [
      "El perímetro del rectángulo es: 30\n"
     ]
    }
   ],
   "source": [
    "\n",
    "\n",
    "def calculate_perimeter( length,  width ):\n",
    "  perimeter= 2*(length+width)\n",
    "  return perimeter\n",
    "length = 10;width=5\n",
    "print(\"El perímetro del rectángulo es:\",calculate_perimeter(length,width))\n",
    "\n"
   ]
  },
  {
   "cell_type": "code",
   "execution_count": 12,
   "metadata": {},
   "outputs": [
    {
     "name": "stdout",
     "output_type": "stream",
     "text": [
      "\n",
      "def calculate_perimeter(length,  width):\n",
      "    perimeter = 2*(length+width)\n",
      "    return perimeter\n",
      "\n",
      "\n",
      "length = 10\n",
      "width = 5\n",
      "print(\"El perímetro del rectángulo es:\", calculate_perimeter(length, width))\n",
      "\n"
     ]
    }
   ],
   "source": [
    "\n",
    "#Formatear el código con autopep8:\n",
    "import autopep8\n",
    "\n",
    "# Código desordenado\n",
    "code = '''\n",
    "def calculate_perimeter( length,  width ):\n",
    "  perimeter= 2*(length+width)\n",
    "  return perimeter\n",
    "length = 10;width=5\n",
    "print(\"El perímetro del rectángulo es:\",calculate_perimeter(length,width))\n",
    "'''\n",
    "\n",
    "# Aplicar autopep8\n",
    "formatted_code = autopep8.fix_code(code)\n",
    "print(formatted_code)\n"
   ]
  },
  {
   "cell_type": "markdown",
   "metadata": {},
   "source": [
    "## 3. YAPF\n",
    "\n",
    "### Instalación\n",
    "\n",
    "Ejecuta en una celda:\n",
    "```bash\n",
    "!pip install yapf\n",
    "```\n",
    "\n",
    "### Ejemplo de Uso\n",
    "Código sin formato:\n",
    "\n",
    "\n",
    "\n",
    "\n"
   ]
  },
  {
   "cell_type": "code",
   "execution_count": 13,
   "metadata": {},
   "outputs": [
    {
     "name": "stdout",
     "output_type": "stream",
     "text": [
      "Hola joven Ana\n"
     ]
    }
   ],
   "source": [
    "def greet_user( name,age ):\n",
    " if age>=18:  greeting=\"Hola adulto \" + name\n",
    " else: greeting=\"Hola joven \" + name\n",
    " return greeting\n",
    "print(greet_user(\"Ana\", 17))\n"
   ]
  },
  {
   "cell_type": "code",
   "execution_count": 17,
   "metadata": {},
   "outputs": [
    {
     "name": "stdout",
     "output_type": "stream",
     "text": [
      "def greet_user(name, age):\n",
      "    if age >= 18: greeting = \"Hola adulto \" + name\n",
      "    else: greeting = \"Hola joven \" + name\n",
      "    return greeting\n",
      "\n",
      "\n",
      "print(greet_user(\"Ana\", 17))\n",
      "\n"
     ]
    }
   ],
   "source": [
    "#Formatear el código con YAPF:\n",
    "from yapf.yapflib.yapf_api import FormatCode\n",
    "\n",
    "# Código desordenado\n",
    "code = '''\n",
    "def greet_user( name,age ):\n",
    " if age>=18:  greeting=\"Hola adulto \" + name\n",
    " else: greeting=\"Hola joven \" + name\n",
    " return greeting\n",
    "print(greet_user(\"Ana\", 17))\n",
    "'''\n",
    "\n",
    "# Aplicar YAPF\n",
    "formatted_code, _ = FormatCode(code)\n",
    "print(formatted_code)\n"
   ]
  },
  {
   "cell_type": "markdown",
   "metadata": {},
   "source": [
    "---\n",
    "\n",
    "## 4. Flake8\n",
    "\n",
    "### Instalación\n",
    "\n",
    "Ejecuta en una celda:\n",
    "```bash\n",
    "!pip install flake8\n",
    "```\n",
    "\n"
   ]
  },
  {
   "cell_type": "markdown",
   "metadata": {},
   "source": [
    "### Ejemplo de Uso\n",
    "Código sin formato en un archivo (`example.py`):\n",
    "# Guardar este código en un archivo llamado \"example.py\"\n",
    "code = '''\n",
    "def calculate_sum(a,b):\n",
    "  result=a + b \n",
    "  return result \n",
    "print(calculate_sum(5,3))\n",
    "'''\n",
    "with open(\"example.py\", \"w\") as file:\n",
    "    file.write(code)"
   ]
  },
  {
   "cell_type": "markdown",
   "metadata": {},
   "source": [
    "### Usar Flake8 para analizar el archivo:\n",
    "bash\n",
    "Copy code\n",
    "!flake8 example.py"
   ]
  },
  {
   "cell_type": "markdown",
   "metadata": {},
   "source": [
    "![](error.png)"
   ]
  },
  {
   "cell_type": "markdown",
   "metadata": {},
   "source": [
    "El error W291 trailing whitespace indica que hay espacios en blanco al final de una línea de código. Este es un problema de estilo según PEP 8."
   ]
  }
 ],
 "metadata": {
  "kernelspec": {
   "display_name": "Python 3 (ipykernel)",
   "language": "python",
   "name": "python3"
  },
  "language_info": {
   "codemirror_mode": {
    "name": "ipython",
    "version": 3
   },
   "file_extension": ".py",
   "mimetype": "text/x-python",
   "name": "python",
   "nbconvert_exporter": "python",
   "pygments_lexer": "ipython3",
   "version": "3.11.3"
  }
 },
 "nbformat": 4,
 "nbformat_minor": 4
}
